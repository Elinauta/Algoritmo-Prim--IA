{
  "nbformat": 4,
  "nbformat_minor": 0,
  "metadata": {
    "colab": {
      "name": "19110132_prim.py",
      "provenance": [],
      "authorship_tag": "ABX9TyMZ+Y58ZIaBuN/nQr0R0Po4",
      "include_colab_link": true
    },
    "kernelspec": {
      "name": "python3",
      "display_name": "Python 3"
    }
  },
  "cells": [
    {
      "cell_type": "markdown",
      "metadata": {
        "id": "view-in-github",
        "colab_type": "text"
      },
      "source": [
        "<a href=\"https://colab.research.google.com/github/Elinauta/Algoritmo-Prim--IA/blob/main/19110132_prim_py.ipynb\" target=\"_parent\"><img src=\"https://colab.research.google.com/assets/colab-badge.svg\" alt=\"Open In Colab\"/></a>"
      ]
    },
    {
      "cell_type": "code",
      "metadata": {
        "colab": {
          "base_uri": "https://localhost:8080/"
        },
        "id": "wVaa3bl5u6ue",
        "outputId": "ae6aabd4-569b-4eec-8aa9-1fadf004d54c"
      },
      "source": [
        "#      Cuaya Padilla Maria Elizabeth 19110132 5°E1\n",
        "#              EXAMEN PRIMER PARCIAL\n",
        "#           Ejercicio 1.- Algoritmo Prim\n",
        "\n",
        "\n",
        "\"\"\"\n",
        " 1)Se marca el vertice de partida\n",
        " 2)se seleccionan los vertices adyacente\n",
        " 3)Se selecciona la arista de menor peso \n",
        " 4)Repetir siempre que la arista elegida no cree un ciclo\n",
        " 5)El arbol de expansion minima tendrá todos los vertices del grafo\n",
        "\"\"\"\n",
        "\n",
        "\n",
        "import sys\n",
        "\n",
        "#Declaracion de la clase Grafo\n",
        "class GrafoPrim:\n",
        "    #Constructor con entrada de parametros (n,w,v)\n",
        "    def __init__(self, Num_Vertices, peso, vertices):\n",
        "        self.peso = peso\n",
        "        self.vertices = vertices\n",
        "        self.Num_Vertices = Num_Vertices\n",
        "        self.grafo_Resultante = []\n",
        "    \n",
        "    #Imprime el Grafo Resultante\n",
        "    def Muestra_Grafo_Resultante(self):\n",
        "        print(\"\\nGrafo Resultante del sistema de carreteras:\")\n",
        "        p = 0\n",
        "        for s, d, w in self.grafo_Resultante:\n",
        "            print(\"(%s-%s):%s\" % (s, d, w))\n",
        "            p = p + w #suma los pesos para corroborar que sea el grafo\n",
        "        print(\"\\nCosto total de las carreteras: \", p)\n",
        "\n",
        "    #Algoritmo Prim\n",
        "    def Prim(self):\n",
        "        lista_visitados = [0] * self.Num_Vertices #Da el rango a la lista\n",
        "        cont = 0\n",
        "        lista_visitados[0] = True\n",
        "        while cont < self.Num_Vertices - 1: \n",
        "            min = sys.maxsize #Da el mayor numero para una variable de ese tipo\n",
        "            for i in range(self.Num_Vertices):\n",
        "                if lista_visitados[i]:  #para recorrer la lista de visitados\n",
        "                    for j in range(self.Num_Vertices): \n",
        "                        if ((not lista_visitados[j]) and self.peso[i][j]): #llega a las posiciones de la matriz peso que tengan valor diferente a cero\n",
        "                            if min > self.peso[i][j]:   \n",
        "                                min = self.peso[i][j]   #min toma el valor de peso para comprarlo con el siguiente valor de peso\n",
        "                                x = i\n",
        "                                y = j\n",
        "            self.grafo_Resultante.append([self.vertices[x], self.vertices[y], self.peso[x][y]]) #agrega los datos al grafo resultante\n",
        "            lista_visitados[y] = True #registro de paso del valor\n",
        "            cont += 1 #aumento de contador\n",
        "        self.Muestra_Grafo_Resultante() #llama a la funcion para imprimir el resultado\n",
        "\n",
        "#Declaracion de datos del grafo original\n",
        "peso = [ [0, 4, 2, 0, 0,3],\n",
        "         [4, 0, 0, 5, 0, 0],\n",
        "         [2, 0, 0, 1, 3, 6],\n",
        "         [0, 5, 1, 0, 6, 0],\n",
        "         [0, 0, 3, 6, 0, 2],\n",
        "         [3,0, 6, 0, 2, 0] ]\n",
        "vertices = [\"1\", \"2\", \"3\", \"4\", \"5\",\"6\"]\n",
        "num = (len(vertices))\n",
        "\n",
        "#Declaracion del objeto\n",
        "carreteras = GrafoPrim(num, peso, vertices)\n",
        "carreteras.Prim()"
      ],
      "execution_count": null,
      "outputs": [
        {
          "output_type": "stream",
          "text": [
            "\n",
            "Grafo Resultante del sistema de carreteras:\n",
            "(1-3):2\n",
            "(3-4):1\n",
            "(1-6):3\n",
            "(6-5):2\n",
            "(1-2):4\n",
            "\n",
            "Costo total de las carreteras:  12\n"
          ],
          "name": "stdout"
        }
      ]
    }
  ]
}